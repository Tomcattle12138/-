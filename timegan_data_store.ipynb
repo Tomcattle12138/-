{
 "cells": [
  {
   "attachments": {},
   "cell_type": "markdown",
   "metadata": {},
   "source": [
    "# 生成用于训练TimeGAN的数据"
   ]
  },
  {
   "cell_type": "code",
   "execution_count": 1,
   "metadata": {},
   "outputs": [],
   "source": [
    "import numpy as np\n",
    "import pandas as pd\n",
    "from datetime import datetime\n",
    "\n",
    "forex_file = 'forex.csv'\n",
    "data = pd.read_csv(forex_file)  # slug, data, open, high, low, close, currency\n",
    "\n",
    "# （相对日期，open1, high1, low1, close1, open2, high2, low2, close2, open3, high3, low3, close3)\n",
    "# target: (open4, high4, low4, close4, open5, high5, low5, close5)\n",
    "currency_convert_types = list(set(data['slug']))\n",
    "currency_types = set()\n",
    "for line in data['slug']:\n",
    "    currency_types.add(line.split('/')[0])\n",
    "    currency_types.add(line.split('/')[1])\n",
    "currency_types = list(currency_types)"
   ]
  },
  {
   "cell_type": "code",
   "execution_count": 2,
   "metadata": {},
   "outputs": [
    {
     "name": "stdout",
     "output_type": "stream",
     "text": [
      "共有299个月份\n",
      "去除前有299个月\n",
      "去除后有219个月\n"
     ]
    }
   ],
   "source": [
    "import torch\n",
    "cur_slug = 'USD/CNY'  # 选择美元兑换为人民币\n",
    "# 首先统计有多少个月份：\n",
    "year_months = list(set([date[:7] for date in data['date']]))\n",
    "n_month = len(year_months)\n",
    "print(f'共有{n_month}个月份')\n",
    "year_months.sort()\n",
    "month2idx = {year_months[i]: i for i in range(n_month)}\n",
    "\n",
    "month_record_cnt = [0] * n_month\n",
    "for slug, date in zip(data['slug'], data['date']):\n",
    "    if slug == cur_slug:\n",
    "        month = date[:7]\n",
    "        month_idx = month2idx[month]\n",
    "        month_record_cnt[month_idx] += 1\n",
    "print(f'去除前有{n_month}个月')\n",
    "thead = 20  # 大于20天以上的才进行选择\n",
    "invalid_month = []\n",
    "for month, idx in month2idx.items():\n",
    "    if month_record_cnt[idx] < thead:\n",
    "        invalid_month.append(month)\n",
    "for month in invalid_month:\n",
    "    month2idx.pop(month)\n",
    "year_months = list(month2idx.keys())\n",
    "year_months.sort()\n",
    "n_month = len(year_months)\n",
    "month2idx = {year_months[i]: i for i in range(n_month)}\n",
    "print(f'去除后有{n_month}个月')\n",
    "output_f = './timegan-pytorch/data/USD2CNY.csv'\n",
    "f = open(output_f, 'w')"
   ]
  },
  {
   "cell_type": "code",
   "execution_count": 3,
   "metadata": {},
   "outputs": [],
   "source": [
    "data_ori = [[[0] * 5 for day in range(31)] for month in range(n_month)]  # [n_month, 31, 4]  219, 31, 5 -> [open,high,low,close,date]\n",
    "\n",
    "def to_str(array):\n",
    "    ans = []\n",
    "    for elem in array:\n",
    "        ans.append(str(elem))\n",
    "    return ans\n",
    "\n",
    "for slug, date, open, high, low, close in zip(data['slug'], data['date'], data['open'], data['high'], data['low'], data['close']):\n",
    "    if slug == cur_slug:\n",
    "        month = date[:7]\n",
    "        if month in month2idx.keys():\n",
    "            month_idx = month2idx[month]\n",
    "            day = int(date[-2:]) - 1\n",
    "            data_ori[month_idx][day] = [open,high,low,close,date]\n",
    "\n",
    "# 保存数据\n",
    "# 第一行序号 第二行月份的编号 第三行 open 第四行 high 第五行 low 第六行 close\n",
    "\n",
    "\n",
    "header = ',Idx,Open,High,Low,Close,Date'\n",
    "f.write(header + '\\n')\n",
    "\n",
    "i = 0\n",
    "for month_idx, month_data in enumerate(data_ori):\n",
    "    for day_data in month_data:\n",
    "        if day_data[:4] != [0,0,0,0]:\n",
    "            line = str(i) + ',' + str(month_idx) + ',' + ','.join(to_str(day_data)) + '\\n'\n",
    "            f.write(line)\n",
    "            i += 1"
   ]
  }
 ],
 "metadata": {
  "kernelspec": {
   "display_name": "py36",
   "language": "python",
   "name": "python3"
  },
  "language_info": {
   "codemirror_mode": {
    "name": "ipython",
    "version": 3
   },
   "file_extension": ".py",
   "mimetype": "text/x-python",
   "name": "python",
   "nbconvert_exporter": "python",
   "pygments_lexer": "ipython3",
   "version": "3.6.5"
  },
  "orig_nbformat": 4
 },
 "nbformat": 4,
 "nbformat_minor": 2
}
